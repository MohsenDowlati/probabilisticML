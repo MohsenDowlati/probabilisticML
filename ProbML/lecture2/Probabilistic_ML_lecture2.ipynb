{
  "nbformat": 4,
  "nbformat_minor": 0,
  "metadata": {
    "colab": {
      "provenance": []
    },
    "kernelspec": {
      "name": "python3",
      "display_name": "Python 3"
    },
    "language_info": {
      "name": "python"
    }
  },
  "cells": [
    {
      "cell_type": "markdown",
      "source": [
        "#Import libraries"
      ],
      "metadata": {
        "id": "296uL_YGST57"
      }
    },
    {
      "cell_type": "code",
      "source": [
        "!pip install array_to_latex"
      ],
      "metadata": {
        "colab": {
          "base_uri": "https://localhost:8080/"
        },
        "id": "wIs4nrogO_3a",
        "outputId": "c8363257-b953-473e-c069-8ee575932c00"
      },
      "execution_count": null,
      "outputs": [
        {
          "output_type": "stream",
          "name": "stdout",
          "text": [
            "Requirement already satisfied: array_to_latex in /usr/local/lib/python3.10/dist-packages (0.91)\n",
            "Requirement already satisfied: numpy in /usr/local/lib/python3.10/dist-packages (from array_to_latex) (1.23.5)\n",
            "Requirement already satisfied: pandas in /usr/local/lib/python3.10/dist-packages (from array_to_latex) (1.5.3)\n",
            "Requirement already satisfied: clipboard in /usr/local/lib/python3.10/dist-packages (from array_to_latex) (0.0.4)\n",
            "Requirement already satisfied: pyperclip>=1.3 in /usr/local/lib/python3.10/dist-packages (from clipboard->array_to_latex) (1.8.2)\n",
            "Requirement already satisfied: python-dateutil>=2.8.1 in /usr/local/lib/python3.10/dist-packages (from pandas->array_to_latex) (2.8.2)\n",
            "Requirement already satisfied: pytz>=2020.1 in /usr/local/lib/python3.10/dist-packages (from pandas->array_to_latex) (2023.3.post1)\n",
            "Requirement already satisfied: six>=1.5 in /usr/local/lib/python3.10/dist-packages (from python-dateutil>=2.8.1->pandas->array_to_latex) (1.16.0)\n"
          ]
        }
      ]
    },
    {
      "cell_type": "code",
      "execution_count": null,
      "metadata": {
        "id": "r6kgRE6mSNNY"
      },
      "outputs": [],
      "source": [
        "import array_to_latex as a2l\n",
        "import numpy as np\n",
        "from IPython.display import Markdown, display\n",
        "from jax import vmap\n",
        "\n",
        "def ltx(a, fmt=\"{:6.5f}\"):\n",
        "  return a2l.to_ltx(np.array(a) , frmt=fmt, print_out=False)"
      ]
    },
    {
      "cell_type": "markdown",
      "source": [
        "#Probability (coins and bell problem)\n",
        "\n",
        "We toss two coins and a bell rang when the coins have same face.\n",
        "\n",
        "we want to know Probability of every states."
      ],
      "metadata": {
        "id": "lcT7Bu6cX0-Y"
      }
    },
    {
      "cell_type": "markdown",
      "source": [
        "### Functions"
      ],
      "metadata": {
        "id": "ofTw0ClGdkyb"
      }
    },
    {
      "cell_type": "code",
      "source": [
        "def P_a(a): #p(A)\n",
        "  p=.5\n",
        "  return a*p + (~a) * (1-p)\n",
        "\n",
        "def P_b(b): #p(B)\n",
        "  p=.5\n",
        "  return b*p + (~b) *(1-p)\n",
        "\n",
        "def P_c_ab(c,a,b): #p(C|A,B)\n",
        "  return c == (a==b)\n",
        "\n",
        "def P_abc(a,b,c): #p(A,B,C)\n",
        "  return P_a(a) * P_b(b) * P_c_ab(c,a,b)\n",
        "\n",
        "values = np.asarray([0, 1],dtype=bool) # is tail or head?\n",
        "p = vmap(\n",
        "    vmap(vmap(P_abc, in_axes=(None,None,0)),in_axes=(None,0,None)),\n",
        "    in_axes=(0,None,None),)(values,values,values)"
      ],
      "metadata": {
        "id": "-zzl-Ct7X7cG"
      },
      "execution_count": null,
      "outputs": []
    },
    {
      "cell_type": "markdown",
      "source": [
        "### Margins"
      ],
      "metadata": {
        "id": "axiGuatrd0uX"
      }
    },
    {
      "cell_type": "code",
      "source": [
        "#notation\n",
        "A = 0\n",
        "B = 1\n",
        "C = 2\n",
        "\n",
        "p_AB = p.sum(axis=C)\n",
        "p_AC = p.sum(axis=B)\n",
        "p_BC = p.sum(axis=A)\n",
        "\n",
        "display(\n",
        "    Markdown(\n",
        "        \"$$p(A,B) = \" + ltx(p_AB,\"{:6.5f}\") + \", \\qquad \" +\n",
        "        \"p(A,C) = \" + ltx(p_AC,\"{:6.5f}\") + \", \\qquad \" +\n",
        "        \"p(B,C) = \" + ltx(p_BC,\"{:6.5f}\") + \"$$\"\n",
        "    )\n",
        ")\n",
        "\n",
        "\n",
        "p_A = p.sum(axis=(B,C))\n",
        "p_B = p.sum(axis=(A,C))\n",
        "p_C = p.sum(axis=(A,B))\n",
        "\n",
        "display(\n",
        "    Markdown(\n",
        "        \"$$p(A) = \" + ltx(p_A,\"{:4.2f}\") + \", \\qquad \" +\n",
        "        \"p(B) = \" + ltx(p_B,\"{:4.2f}\") + \", \\qquad \" +\n",
        "        \"p(C) = \" + ltx(p_C,\"{:4.2f}\") + \"$$\"\n",
        "    )\n",
        ")\n",
        "\n",
        "p_AB_C = (p / p.sum(axis=(A,B) , keepdims= True))[:,:,1]\n",
        "p_AC_B = (p / p.sum(axis=(A,C) , keepdims= True))[:,1,:]\n",
        "p_BC_A = (p / p.sum(axis=(B,C) , keepdims= True))[1,:,:]\n",
        "\n",
        "display(\n",
        "    Markdown(\n",
        "        \"$$p(A,B\\mid C) = \" + ltx(p_AB_C,\"{:4.2f}\") + \", \\qquad \" +\n",
        "        \"p(A,C\\mid B) = \" + ltx(p_AC_B,\"{:4.2f}\") + \", \\qquad \" +\n",
        "        \"p(B,C\\mid A) = \" + ltx(p_BC_A,\"{:4.2f}\") + \"$$\"\n",
        "    )\n",
        ")"
      ],
      "metadata": {
        "colab": {
          "base_uri": "https://localhost:8080/",
          "height": 144
        },
        "id": "zS_A0Mslblt-",
        "outputId": "dc0f1179-4835-4c1b-f69d-4de17af0c6e2"
      },
      "execution_count": null,
      "outputs": [
        {
          "output_type": "display_data",
          "data": {
            "text/plain": [
              "<IPython.core.display.Markdown object>"
            ],
            "text/markdown": "$$p(A,B) = \\begin{bmatrix}\n  0.25000 &  0.25000\\\\\n  0.25000 &  0.25000\n\\end{bmatrix}, \\qquad p(A,C) = \\begin{bmatrix}\n  0.25000 &  0.25000\\\\\n  0.25000 &  0.25000\n\\end{bmatrix}, \\qquad p(B,C) = \\begin{bmatrix}\n  0.25000 &  0.25000\\\\\n  0.25000 &  0.25000\n\\end{bmatrix}$$"
          },
          "metadata": {}
        },
        {
          "output_type": "display_data",
          "data": {
            "text/plain": [
              "<IPython.core.display.Markdown object>"
            ],
            "text/markdown": "$$p(A) = \\begin{bmatrix}\n  0.50 &  0.50\n\\end{bmatrix}, \\qquad p(B) = \\begin{bmatrix}\n  0.50 &  0.50\n\\end{bmatrix}, \\qquad p(C) = \\begin{bmatrix}\n  0.50 &  0.50\n\\end{bmatrix}$$"
          },
          "metadata": {}
        },
        {
          "output_type": "display_data",
          "data": {
            "text/plain": [
              "<IPython.core.display.Markdown object>"
            ],
            "text/markdown": "$$p(A,B\\mid C) = \\begin{bmatrix}\n  0.50 &  0.00\\\\\n  0.00 &  0.50\n\\end{bmatrix}, \\qquad p(A,C\\mid B) = \\begin{bmatrix}\n  0.50 &  0.00\\\\\n  0.00 &  0.50\n\\end{bmatrix}, \\qquad p(B,C\\mid A) = \\begin{bmatrix}\n  0.50 &  0.00\\\\\n  0.00 &  0.50\n\\end{bmatrix}$$"
          },
          "metadata": {}
        }
      ]
    },
    {
      "cell_type": "markdown",
      "source": [
        "# probability ( burglar/alarm problem)\n",
        "\n",
        "<img src='https://drive.google.com/uc?id=1rpGR5JC7spJlSIvO07Xmte4iaubic4CF'>"
      ],
      "metadata": {
        "id": "ZC2q1yPpDNkD"
      }
    },
    {
      "cell_type": "markdown",
      "source": [
        "###intialize values"
      ],
      "metadata": {
        "id": "GK8Q5J_vH5rY"
      }
    },
    {
      "cell_type": "code",
      "source": [
        "p_break_in = 1e-3\n",
        "p_earthquake = 1e-3\n",
        "p_false_alarm = 1e-3\n",
        "TPR_alarm = 0.99 #probabilty of alarm given break-in\n",
        "EQ_alarm = 0.01 #probabilty of alarm going of if there's an earthquake"
      ],
      "metadata": {
        "id": "YFhkHOxNH5Lt"
      },
      "execution_count": null,
      "outputs": []
    },
    {
      "cell_type": "markdown",
      "source": [
        "###function"
      ],
      "metadata": {
        "id": "zPtKLHLrJLJi"
      }
    },
    {
      "cell_type": "code",
      "source": [
        "def P_b(b): #P(B) probability of a break_in\n",
        "  p = p_break_in\n",
        "  return b * p + (~b) * (1-p)\n",
        "\n",
        "def P_e(e): #P(E) probability of an earthquake\n",
        "  p = p_earthquake\n",
        "  return e * p + (~e) * (1-p)\n",
        "\n",
        "def P_a_eb(a,e,b): #P(A |E,B) probability of alarm given break-in and earthquake\n",
        "  f = p_false_alarm\n",
        "  a_b = TPR_alarm\n",
        "  a_e = EQ_alarm\n",
        "\n",
        "  a0 =  ((1-f)\n",
        "          *(1.0 * (b==0)+(1.0 - a_b) * (b==1))\n",
        "          *(1.0 * (e==0)+(1.0 - a_e) * (e==1)))\n",
        "\n",
        "  return (a==0) * a0 + (a==1) * (1-a0)\n",
        "\n",
        "def P_aeb(a,e,b): #P(A,E,B)\n",
        "  return P_b(b) * P_e(e) * P_a_eb(a,e,b)"
      ],
      "metadata": {
        "id": "fZ0mo5D7JOII"
      },
      "execution_count": null,
      "outputs": []
    },
    {
      "cell_type": "markdown",
      "source": [
        "###Margins"
      ],
      "metadata": {
        "id": "9F_13JbANNk5"
      }
    },
    {
      "cell_type": "code",
      "source": [
        "#Notation\n",
        "A = 0\n",
        "E = 1\n",
        "B = 2\n",
        "\n",
        "values = np.asarray([0, 1],dtype=bool)\n",
        "\n",
        "p = vmap(vmap(vmap(P_aeb , in_axes=(None,None,0)),in_axes=(None,0,None)),\n",
        "         in_axes=(0,None,None))(values,values,values)\n",
        "\n",
        "p_A = p.sum(axis=(E,B))[1]\n",
        "\n",
        "display(\n",
        "    Markdown(f\"The marginal probability of an alarm is $p(A=1)={p_A:.3f}$\")\n",
        ")\n",
        "\n",
        "p_EB_A = (p/p.sum(axis=(E,B),keepdims=True))[1,:,:] #P(E,B|A=1)\n",
        "p_B_A = p_EB_A.sum(axis=0)[1]\n",
        "p_E_A = p_EB_A.sum(axis=1)[1]\n",
        "\n",
        "p_B_EA = p_EB_A[1,1]/p_EB_A[1,:].sum() #P(B=1 | E=1 , A=1)\n",
        "\n",
        "display(\n",
        "    Markdown(\"The posterior for Break-in or earthquake given an alarm is $$p(B,E\\mid A) = \"+ltx(p_EB_A)+\n",
        "             \",$$\" + \"with marginal conditionals given by $$p(B\\mid A) = \"+f\"{p_B_A:.3f}\"+\n",
        "             \"\\\\quad \\\\text{and} \\\\quad P(E\\mid A) =\"+ f\"{p_E_A:.4f}\" + \".$$\" +\n",
        "             \"The marginal given alarm *and* radio announcement is $p(B=1 \\mid E=1,A=1) = \"+\n",
        "             f\"{p_B_EA:.2f}\" + \"$.\")\n",
        ")"
      ],
      "metadata": {
        "id": "OwYK1a7-NVKf",
        "colab": {
          "base_uri": "https://localhost:8080/",
          "height": 175
        },
        "outputId": "be8d7438-d41e-4831-dda1-3245ba30d4ef"
      },
      "execution_count": null,
      "outputs": [
        {
          "output_type": "display_data",
          "data": {
            "text/plain": [
              "<IPython.core.display.Markdown object>"
            ],
            "text/markdown": "The marginal probability of an alarm is $p(A=1)=0.002$"
          },
          "metadata": {}
        },
        {
          "output_type": "display_data",
          "data": {
            "text/plain": [
              "<IPython.core.display.Markdown object>"
            ],
            "text/markdown": "The posterior for Break-in or earthquake given an alarm is $$p(B,E\\mid A) = \\begin{bmatrix}\n  0.49925 &  0.49476\\\\\n  0.00549 &  0.00050\n\\end{bmatrix},$$with marginal conditionals given by $$p(B\\mid A) = 0.495\\quad \\text{and} \\quad P(E\\mid A) =0.0060.$$The marginal given alarm *and* radio announcement is $p(B=1 \\mid E=1,A=1) = 0.08$."
          },
          "metadata": {}
        }
      ]
    }
  ]
}